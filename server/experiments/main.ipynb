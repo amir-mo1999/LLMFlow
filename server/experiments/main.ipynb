{
 "cells": [
  {
   "cell_type": "code",
   "execution_count": 17,
   "metadata": {},
   "outputs": [],
   "source": [
    "# append the actual root folder of the server to find imports\n",
    "import os\n",
    "import sys\n",
    "\n",
    "\n",
    "working_dir = \"/\".join(os.getcwd().split(\"/\")[:-1])\n",
    "sys.path.append(working_dir)"
   ]
  },
  {
   "cell_type": "code",
   "execution_count": 18,
   "metadata": {},
   "outputs": [],
   "source": [
    "from App.models import AIFunctionRouteInput\n",
    "import json"
   ]
  },
  {
   "cell_type": "code",
   "execution_count": 33,
   "metadata": {},
   "outputs": [],
   "source": [
    "dataset_path = os.path.join(working_dir, \"datasets\", \"sample_ai_functions.json\")\n",
    "with open(dataset_path, \"r\") as f:\n",
    "    ai_function_data = json.load(f)"
   ]
  },
  {
   "cell_type": "code",
   "execution_count": 34,
   "metadata": {},
   "outputs": [
    {
     "name": "stdout",
     "output_type": "stream",
     "text": [
      "name='Summarize Texts' description='Summarizes english texts to a given number of sentences.' input_variables=[InputVariable(name='text'), InputVariable(name='number_of_sentences')] assertions=OutputAssertions(assertions=[Assertion(type=<BaseAssertionTypes.contains: 'contains'>, value='sea', threshold=None, weight=0.5, metric=None), Assertion(type=<BaseAssertionTypes.context_relevance: 'context-relevance'>, value='ocean', threshold=0.8, weight=None, metric=None)]) test_cases=[TestCase(variables={'text': 'The sea is blue and full of fish. It is the home to many species. It spans over more than two thirds of the world.', 'number_of_sentences': '1'}), TestCase(variables={'text': 'Rivers flow into the ocean, carrying nutrients that support the marine ecosystem. The sea is essential to human life.', 'number_of_sentences': '2'})]\n",
      "name='Classify Sentiment' description='Classifies the sentiment of a given text as positive, negative, or neutral.' input_variables=[InputVariable(name='text')] assertions=OutputAssertions(assertions=[Assertion(type=<BaseAssertionTypes.contains_any: 'contains-any'>, value=['positive', 'negative', 'neutral'], threshold=None, weight=0.7, metric=None), Assertion(type=<BaseAssertionTypes.levenshtein: 'levenshtein'>, value='positive', threshold=2.0, weight=None, metric=None)]) test_cases=[TestCase(variables={'text': 'I love the new design of the app. It is so user-friendly!'}), TestCase(variables={'text': 'The customer service was terrible. I am never buying from this company again.'}), TestCase(variables={'text': 'The product is okay, but it didn’t meet all of my expectations.'})]\n",
      "name='Translate Text' description='Translates a given text from English to French.' input_variables=[InputVariable(name='text'), InputVariable(name='target_language')] assertions=OutputAssertions(assertions=[Assertion(type=<BaseAssertionTypes.icontains_all: 'icontains-all'>, value=['français', 'traduction', 'texte'], threshold=None, weight=0.8, metric=None), Assertion(type=<BaseAssertionTypes.rouge_l: 'rouge-l'>, value=None, threshold=None, weight=None, metric='overlap')]) test_cases=[TestCase(variables={'text': 'The quick brown fox jumps over the lazy dog.', 'target_language': 'French'}), TestCase(variables={'text': 'Artificial intelligence is revolutionizing the world of technology.', 'target_language': 'French'}), TestCase(variables={'text': 'The sea is vast and full of life, spanning across most of the Earth’s surface.', 'target_language': 'French'})]\n",
      "name='Summarize Long Articles' description='Summarizes a given long article to a few key sentences.' input_variables=[InputVariable(name='article'), InputVariable(name='summary_length')] assertions=OutputAssertions(assertions=[Assertion(type=<BaseAssertionTypes.contains: 'contains'>, value='key points', threshold=None, weight=0.9, metric=None), Assertion(type=<BaseAssertionTypes.context_faithfulness: 'context-faithfulness'>, value='original article', threshold=0.85, weight=None, metric=None)]) test_cases=[TestCase(variables={'article': 'The global economy is undergoing significant changes due to technological advancements, environmental concerns, and shifting political landscapes. Many industries are adapting to new trends, such as the rise of renewable energy, the proliferation of artificial intelligence, and the demand for more sustainable practices. As companies and governments work to address these challenges, there is a growing consensus that collaboration across borders will be essential for future growth.', 'summary_length': '2'}), TestCase(variables={'article': \"In the digital age, the concept of privacy has evolved. With the increasing use of social media and online platforms, personal data has become a valuable commodity. While some argue that data collection is necessary for improving user experiences and services, others are concerned about the lack of transparency and potential misuse of information. Governments around the world are enacting new regulations to protect citizens' privacy and ensure that companies handle data responsibly.\", 'summary_length': '3'})]\n",
      "name='Extract Named Entities' description='Identifies and extracts named entities such as persons, organizations, and locations from a given text.' input_variables=[InputVariable(name='text')] assertions=OutputAssertions(assertions=[Assertion(type=<BaseAssertionTypes.contains_all: 'contains-all'>, value=['PERSON', 'ORGANIZATION', 'LOCATION'], threshold=None, weight=0.85, metric=None), Assertion(type=<BaseAssertionTypes.regex: 'regex'>, value='\\\\b[A-Z][a-z]+\\\\b', threshold=None, weight=None, metric='name-pattern')]) test_cases=[TestCase(variables={'text': 'Apple Inc. is planning to open a new office in San Francisco. The CEO Tim Cook announced this in a recent interview.'}), TestCase(variables={'text': 'Microsoft Corporation, headquartered in Redmond, is one of the largest technology companies in the world.'}), TestCase(variables={'text': 'Barack Obama was born in Honolulu, Hawaii, and served as the 44th president of the United States.'})]\n",
      "name='Correct Grammar' description='Identifies and corrects grammatical errors in a given text.' input_variables=[InputVariable(name='text')] assertions=OutputAssertions(assertions=[Assertion(type=<BaseAssertionTypes.icontains_any: 'icontains-any'>, value=['error', 'correction', 'grammar'], threshold=None, weight=0.75, metric=None), Assertion(type=<BaseAssertionTypes.levenshtein: 'levenshtein'>, value='corrected text', threshold=3.0, weight=None, metric=None)]) test_cases=[TestCase(variables={'text': 'The cat chase the mouse. They is running very fast.'}), TestCase(variables={'text': \"She don't have no idea how to solve the math problem.\"}), TestCase(variables={'text': \"Their going to the park later, aren't they?\"})]\n",
      "name='Identify Language' description='Identifies the language of a given text.' input_variables=[InputVariable(name='text')] assertions=OutputAssertions(assertions=[Assertion(type=<BaseAssertionTypes.contains_any: 'contains-any'>, value=['English', 'French', 'Spanish', 'German'], threshold=None, weight=0.8, metric=None), Assertion(type=<BaseAssertionTypes.latency: 'latency'>, value=None, threshold=0.5, weight=None, metric=None)]) test_cases=[TestCase(variables={'text': 'Bonjour, comment ça va?'}), TestCase(variables={'text': 'Hola, ¿cómo estás?'})]\n",
      "name='Generate Image Caption' description='Generates a caption for a given image.' input_variables=[InputVariable(name='image_url')] assertions=OutputAssertions(assertions=[Assertion(type=<BaseAssertionTypes.icontains: 'icontains'>, value='image description', threshold=None, weight=0.7, metric=None), Assertion(type=<BaseAssertionTypes.context_faithfulness: 'context-faithfulness'>, value='image context', threshold=0.85, weight=None, metric=None)]) test_cases=[TestCase(variables={'image_url': 'https://example.com/image1.jpg'}), TestCase(variables={'image_url': 'https://example.com/image2.jpg'})]\n",
      "name='Analyze Sentiment in Reviews' description='Analyzes the sentiment of customer reviews.' input_variables=[InputVariable(name='review_text')] assertions=OutputAssertions(assertions=[Assertion(type=<BaseAssertionTypes.contains_any: 'contains-any'>, value=['positive', 'neutral', 'negative'], threshold=None, weight=0.9, metric=None), Assertion(type=<BaseAssertionTypes.rouge_n: 'rouge-n'>, value=None, threshold=None, weight=None, metric='overlap')]) test_cases=[TestCase(variables={'review_text': 'I love this product! It works perfectly.'}), TestCase(variables={'review_text': 'This item is okay but not as good as I expected.'})]\n",
      "name='Summarize Meeting Notes' description='Summarizes the content of meeting notes to key action items.' input_variables=[InputVariable(name='meeting_notes')] assertions=OutputAssertions(assertions=[Assertion(type=<BaseAssertionTypes.icontains_all: 'icontains-all'>, value=['action items', 'next steps'], threshold=None, weight=0.75, metric=None), Assertion(type=<BaseAssertionTypes.context_relevance: 'context-relevance'>, value='meeting notes', threshold=0.8, weight=None, metric=None)]) test_cases=[TestCase(variables={'meeting_notes': 'Discussed project timeline. Agreed to finalize design by next Friday. John to prepare a demo for the team.'})]\n",
      "name='Detect Toxic Content' description='Detects toxic or harmful language in a given text.' input_variables=[InputVariable(name='text')] assertions=OutputAssertions(assertions=[Assertion(type=<BaseAssertionTypes.moderation: 'moderation'>, value=['hate speech', 'offensive language'], threshold=None, weight=0.9, metric=None), Assertion(type=<BaseAssertionTypes.perplexity: 'perplexity'>, value=None, threshold=None, weight=None, metric='toxicity')]) test_cases=[TestCase(variables={'text': \"You are so dumb, I can't believe anyone would think that!\"}), TestCase(variables={'text': \"I hate people who don't know how to drive.\"})]\n",
      "name='Answer Closed Questions' description='Answers closed-ended questions based on a given context.' input_variables=[InputVariable(name='context'), InputVariable(name='question')] assertions=OutputAssertions(assertions=[Assertion(type=<BaseAssertionTypes.model_graded_closedqa: 'model-graded-closedqa'>, value='accurate answer', threshold=None, weight=0.85, metric=None), Assertion(type=<BaseAssertionTypes.context_recall: 'context-recall'>, value='question context', threshold=0.75, weight=None, metric=None)]) test_cases=[TestCase(variables={'context': 'The Eiffel Tower is located in Paris, France.', 'question': 'Where is the Eiffel Tower?'})]\n",
      "name='Summarize News Articles' description='Generates a brief summary of a news article.' input_variables=[InputVariable(name='news_article')] assertions=OutputAssertions(assertions=[Assertion(type=<BaseAssertionTypes.rouge_l: 'rouge-l'>, value=None, threshold=None, weight=None, metric='summary overlap'), Assertion(type=<BaseAssertionTypes.cost: 'cost'>, value=None, threshold=0.3, weight=None, metric=None)]) test_cases=[TestCase(variables={'news_article': 'The global stock market saw a significant decline today due to fears of rising inflation and increasing interest rates. Investors are pulling back from high-risk assets in favor of safer investments like bonds and gold.'})]\n",
      "name='Generate Code Snippets' description='Generates code snippets for a given programming task.' input_variables=[InputVariable(name='task_description')] assertions=OutputAssertions(assertions=[Assertion(type=<BaseAssertionTypes.python: 'python'>, value='code snippet', threshold=None, weight=0.9, metric=None), Assertion(type=<BaseAssertionTypes.latency: 'latency'>, value=None, threshold=1.5, weight=None, metric=None)]) test_cases=[TestCase(variables={'task_description': 'Write a Python function that returns the factorial of a number.'}), TestCase(variables={'task_description': 'Create a function to check if a string is a palindrome.'})]\n",
      "name='Extract Key Phrases' description='Extracts key phrases from a given text.' input_variables=[InputVariable(name='text')] assertions=OutputAssertions(assertions=[Assertion(type=<BaseAssertionTypes.icontains_all: 'icontains-all'>, value=['key phrases', 'important terms'], threshold=None, weight=0.85, metric=None), Assertion(type=<BaseAssertionTypes.regex: 'regex'>, value='\\\\b[A-Za-z]+\\\\b', threshold=None, weight=None, metric='phrase-pattern')]) test_cases=[TestCase(variables={'text': 'Artificial intelligence and machine learning are transforming the way we live and work.'})]\n",
      "name='Summarize Research Papers' description='Summarizes the main findings of a research paper.' input_variables=[InputVariable(name='research_paper')] assertions=OutputAssertions(assertions=[Assertion(type=<BaseAssertionTypes.context_faithfulness: 'context-faithfulness'>, value='research findings', threshold=0.9, weight=None, metric=None), Assertion(type=<BaseAssertionTypes.similar: 'similar'>, value='summary content', threshold=None, weight=0.8, metric=None)]) test_cases=[TestCase(variables={'research_paper': 'This paper explores the impact of climate change on global agriculture, highlighting how changes in temperature and precipitation patterns are affecting crop yields. The research shows that some regions may see significant declines in productivity, while others may benefit from longer growing seasons.'})]\n"
     ]
    }
   ],
   "source": [
    "for ai_function in ai_function_data:\n",
    "    ai_function = AIFunctionRouteInput(**ai_function)\n",
    "\n",
    "    print(ai_function)"
   ]
  }
 ],
 "metadata": {
  "kernelspec": {
   "display_name": "server-QJMw27y7",
   "language": "python",
   "name": "python3"
  },
  "language_info": {
   "codemirror_mode": {
    "name": "ipython",
    "version": 3
   },
   "file_extension": ".py",
   "mimetype": "text/x-python",
   "name": "python",
   "nbconvert_exporter": "python",
   "pygments_lexer": "ipython3",
   "version": "3.12.5"
  }
 },
 "nbformat": 4,
 "nbformat_minor": 2
}
